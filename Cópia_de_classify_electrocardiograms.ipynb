{
  "cells": [
    {
      "cell_type": "markdown",
      "metadata": {
        "id": "view-in-github",
        "colab_type": "text"
      },
      "source": [
        "<a href=\"https://colab.research.google.com/github/vaf2112/dotfiles/blob/master/C%C3%B3pia_de_classify_electrocardiograms.ipynb\" target=\"_parent\"><img src=\"https://colab.research.google.com/assets/colab-badge.svg\" alt=\"Open In Colab\"/></a>"
      ]
    },
    {
      "cell_type": "markdown",
      "metadata": {
        "id": "G2rPDMdd7tQ9"
      },
      "source": [
        "# Classify Electrocardiograms\n",
        "\n",
        "<img src='https://upload.wikimedia.org/wikipedia/commons/9/9e/SinusRhythmLabels.svg' width=400>"
      ]
    },
    {
      "cell_type": "markdown",
      "metadata": {
        "id": "oqFhOX0A7tRK"
      },
      "source": [
        "### Exercise objectives:\n",
        "- Discover a new type of application with temporal data\n",
        "- Try different recurrent neural networks\n",
        "\n",
        "We have seen that RNN are able to predict what happens after an observed sequence of data. Let's see here a different way of using RNN. Instead of predicting a value that occurs after the seen sequence, we will here classify the entire sequence itself, as if the whole sequence corresponds to a given category. "
      ]
    },
    {
      "cell_type": "markdown",
      "metadata": {
        "id": "fRbvqc_F7tRO"
      },
      "source": [
        "## 1. Data\n",
        "\n",
        "The data corresponds to electrocardiograms (ECG), which are basically heart beats. Each sequence is therefore a sequence of amplitudes. These ECG are often used to observe heart malfunctions! In this dataset, there are 87554 heart beats and each corresponds to a heart beat type, from 0 to 4:\n",
        "- 0 : Normal beat\n",
        "- 1 : Supraventricular\n",
        "- 2 : Ventricular\n",
        "- 3 : Fusion\n",
        "- 4 : Beats that cannot be classified"
      ]
    },
    {
      "cell_type": "markdown",
      "metadata": {
        "id": "H98BknW_7tRQ"
      },
      "source": [
        "### 1.2 Load Data\n",
        "👇 Run the following command to download the data from [here](https://storage.googleapis.com/data-sciences-bootcamp/ECG_data.zip), unzip them, then read it as python object"
      ]
    },
    {
      "cell_type": "code",
      "execution_count": null,
      "metadata": {
        "id": "bM4IzrbF71zI"
      },
      "outputs": [],
      "source": [
        "data_path = '/content/drive/My Drive/Colab Notebooks/data/'"
      ]
    },
    {
      "cell_type": "code",
      "execution_count": null,
      "metadata": {
        "colab": {
          "base_uri": "https://localhost:8080/"
        },
        "id": "YssEWcPd8CmR",
        "outputId": "5d261e48-98c8-4c5a-8318-8863eeeddf05"
      },
      "outputs": [
        {
          "output_type": "stream",
          "name": "stdout",
          "text": [
            "Drive already mounted at /content/drive; to attempt to forcibly remount, call drive.mount(\"/content/drive\", force_remount=True).\n"
          ]
        }
      ],
      "source": [
        "from google.colab import drive\n",
        "drive.mount('/content/drive')"
      ]
    },
    {
      "cell_type": "code",
      "execution_count": null,
      "metadata": {
        "colab": {
          "base_uri": "https://localhost:8080/"
        },
        "id": "ogFjB0j87tRW",
        "outputId": "198b0609-643f-4fea-f47a-c52777a1a49a"
      },
      "outputs": [
        {
          "output_type": "stream",
          "name": "stdout",
          "text": [
            "--2022-01-22 14:56:47--  http://storage.googleapis.com/data-sciences-bootcamp/ECG_data.zip\n",
            "Resolving storage.googleapis.com (storage.googleapis.com)... 172.253.63.128, 142.250.31.128, 142.251.111.128, ...\n",
            "Connecting to storage.googleapis.com (storage.googleapis.com)|172.253.63.128|:80... connected.\n",
            "HTTP request sent, awaiting response... 200 OK\n",
            "Length: 30932601 (29M) [application/zip]\n",
            "Saving to: ‘ECG_data.zip’\n",
            "\n",
            "ECG_data.zip        100%[===================>]  29.50M  --.-KB/s    in 0.1s    \n",
            "\n",
            "2022-01-22 14:56:47 (265 MB/s) - ‘ECG_data.zip’ saved [30932601/30932601]\n",
            "\n",
            "Archive:  ECG_data.zip\n",
            "   creating: ECG_data/\n",
            "  inflating: ECG_data/X.npy          \n",
            "  inflating: __MACOSX/ECG_data/._X.npy  \n",
            "  inflating: ECG_data/y.npy          \n",
            "  inflating: __MACOSX/ECG_data/._y.npy  \n"
          ]
        }
      ],
      "source": [
        "! wget \"http://storage.googleapis.com/data-sciences-bootcamp/ECG_data.zip\"\n",
        "! unzip ECG_data.zip\n",
        "! rm ECG_data.zip"
      ]
    },
    {
      "cell_type": "code",
      "execution_count": null,
      "metadata": {
        "colab": {
          "base_uri": "https://localhost:8080/"
        },
        "id": "F_ZirAUa7tRh",
        "outputId": "c2d9deb2-282d-448e-a535-77ed072baa96"
      },
      "outputs": [
        {
          "output_type": "stream",
          "name": "stdout",
          "text": [
            "87554  time series\n"
          ]
        }
      ],
      "source": [
        "import numpy as np\n",
        "\n",
        "X = np.load(data_path + 'X.npy', allow_pickle=True).tolist()\n",
        "y = np.load(data_path + 'y.npy', allow_pickle=True).tolist()\n",
        "\n",
        "print(len(X), \" time series\") "
      ]
    },
    {
      "cell_type": "markdown",
      "metadata": {
        "id": "ua8IehYg7tRj"
      },
      "source": [
        "👇 We plot one ECG for each category in the dataset to see what an ECG looks like. Notice `np.argwhere` trick!"
      ]
    },
    {
      "cell_type": "code",
      "execution_count": null,
      "metadata": {
        "colab": {
          "base_uri": "https://localhost:8080/"
        },
        "id": "NO4Nggz8Fydx",
        "outputId": "dd8ab1f7-08d3-413c-f820-e48d35366346"
      },
      "outputs": [
        {
          "output_type": "execute_result",
          "data": {
            "text/plain": [
              "95"
            ]
          },
          "metadata": {},
          "execution_count": 5
        }
      ],
      "source": [
        "len(X[2])"
      ]
    },
    {
      "cell_type": "code",
      "execution_count": null,
      "metadata": {
        "colab": {
          "base_uri": "https://localhost:8080/",
          "height": 388
        },
        "id": "BVovVXSf7tRl",
        "outputId": "578679ea-f00d-4744-c2d1-09398818dd5a"
      },
      "outputs": [
        {
          "output_type": "display_data",
          "data": {
            "image/png": "[encoded data removed]",
            "text/plain": [
              "<Figure size 1008x432 with 1 Axes>"
            ]
          },
          "metadata": {
            "needs_background": "light"
          }
        }
      ],
      "source": [
        "import matplotlib.pyplot as plt\n",
        "\n",
        "plt.figure(figsize=(14, 6))\n",
        "for i in range(5):\n",
        "    idx_C = np.argwhere(np.array(y) == i)\n",
        "    plt.plot(X[idx_C[0][0]], label=f'Category {i}')\n",
        "    \n",
        "plt.legend(loc='best')\n",
        "plt.xlabel('Time')\n",
        "plt.ylabel('ECG Amplitude')\n",
        "plt.show()"
      ]
    },
    {
      "cell_type": "markdown",
      "metadata": {
        "id": "jNkQ3Uxn7tRn"
      },
      "source": [
        "### 1.2 Padding"
      ]
    },
    {
      "cell_type": "markdown",
      "metadata": {
        "id": "9EACcsnJ7tRp"
      },
      "source": [
        "❓ **Question** ❓ You have probably noticed that each sequence (each ECG) has a different length. To corroborate your observation, plot the distribution of the sequence lengths in the dataset."
      ]
    },
    {
      "cell_type": "code",
      "execution_count": null,
      "metadata": {
        "colab": {
          "base_uri": "https://localhost:8080/",
          "height": 320
        },
        "id": "IcDTOo487tRr",
        "outputId": "0263a66f-0200-49cd-ee1c-93dea4c0f3e7"
      },
      "outputs": [
        {
          "output_type": "stream",
          "name": "stderr",
          "text": [
            "/usr/local/lib/python3.7/dist-packages/seaborn/distributions.py:2619: FutureWarning: `distplot` is a deprecated function and will be removed in a future version. Please adapt your code to use either `displot` (a figure-level function with similar flexibility) or `histplot` (an axes-level function for histograms).\n",
            "  warnings.warn(msg, FutureWarning)\n"
          ]
        },
        {
          "output_type": "display_data",
          "data": {
            "image/png": "[encoded data removed]",
            "text/plain": [
              "<Figure size 432x288 with 1 Axes>"
            ]
          },
          "metadata": {
            "needs_background": "light"
          }
        }
      ],
      "source": [
        "# YOUR CODE HERE\n",
        "import seaborn as sns\n",
        "\n",
        "leng = []\n",
        "for n in X:\n",
        "  leng.append(len(n))\n",
        "\n",
        "sns.distplot(leng)\n",
        "plt.show()"
      ]
    },
    {
      "cell_type": "markdown",
      "metadata": {
        "id": "6wKn2Z7k7tRt"
      },
      "source": [
        "You remember that we pass a batch of data to the neural network. Thus, the tensor will have the following shape \n",
        ">`(number of SEQUENCES, number of OBSERVATIONS per sequence, nbr of features per observation)`\n",
        "\n",
        "- There are 87554 sequences\n",
        "- Each observation is of size 1 (measured amplitude of ECG)\n",
        "\n",
        "However, the number of observations per sequence vary from one sequence to another. For computational reasons, this cannot be feed into a RNN. For that reason, you need to **fill in the blanks** thanks to the [`pad_sequences`](https://www.tensorflow.org/api_docs/python/tf/keras/preprocessing/sequence/pad_sequences) so that each sequence is filled with fake values. The resulting sequences will all be of the same length.\n",
        "\n",
        "![image.png](attachment:image.png)"
      ]
    },
    {
      "cell_type": "markdown",
      "metadata": {
        "id": "6us-bobn7tRv"
      },
      "source": [
        "\n",
        "\n",
        "❓ **Question** ❓ Use the [`pad_sequences`](https://www.tensorflow.org/api_docs/python/tf/keras/preprocessing/sequence/pad_sequences) function on X directly (without extra arguments here), store the result in `X_pad` and print the first sequence."
      ]
    },
    {
      "cell_type": "code",
      "execution_count": null,
      "metadata": {
        "colab": {
          "base_uri": "https://localhost:8080/"
        },
        "id": "AsB5Qgqj7tRw",
        "outputId": "496cb2ff-cfd0-4c0c-b099-633a697e8d1e"
      },
      "outputs": [
        {
          "output_type": "execute_result",
          "data": {
            "text/plain": [
              "array([ 9.7794116e-01,  9.2647058e-01,  6.8137252e-01,  2.4509804e-01,\n",
              "        1.5441176e-01,  1.9117647e-01,  1.5196079e-01,  8.5784316e-02,\n",
              "        5.8823530e-02,  4.9019609e-02,  4.4117648e-02,  6.1274510e-02,\n",
              "        6.6176474e-02,  6.1274510e-02,  4.9019609e-02,  7.3529415e-02,\n",
              "        6.1274510e-02,  6.1274510e-02,  6.6176474e-02,  6.8627454e-02,\n",
              "        9.5588237e-02,  7.5980395e-02,  9.3137257e-02,  1.0539216e-01,\n",
              "        1.1519608e-01,  1.0294118e-01,  1.1764706e-01,  1.2500000e-01,\n",
              "        1.4215687e-01,  1.2745099e-01,  1.5196079e-01,  1.4460784e-01,\n",
              "        1.6421568e-01,  1.4460784e-01,  1.5931372e-01,  1.5196079e-01,\n",
              "        1.5441176e-01,  1.4215687e-01,  1.5196079e-01,  1.5196079e-01,\n",
              "        1.4705883e-01,  1.3235295e-01,  1.2745099e-01,  1.3480392e-01,\n",
              "        1.3725491e-01,  1.1274510e-01,  1.0784314e-01,  1.0539216e-01,\n",
              "        1.0784314e-01,  9.8039217e-02,  9.3137257e-02,  1.0294118e-01,\n",
              "        1.0049020e-01,  1.0539216e-01,  1.0294118e-01,  1.1764706e-01,\n",
              "        1.0539216e-01,  1.2254902e-01,  1.2745099e-01,  1.4215687e-01,\n",
              "        1.4705883e-01,  1.4460784e-01,  1.7401960e-01,  2.3039216e-01,\n",
              "        2.3774509e-01,  2.4754901e-01,  2.3039216e-01,  2.2549020e-01,\n",
              "        1.9852941e-01,  1.7647059e-01,  1.3235295e-01,  1.2500000e-01,\n",
              "        1.1764706e-01,  1.2254902e-01,  1.1274510e-01,  1.2990196e-01,\n",
              "        1.1519608e-01,  8.3333336e-02,  0.0000000e+00,  6.6176474e-02,\n",
              "        3.0637255e-01,  6.1274511e-01,  8.6029410e-01,  1.0000000e+00,\n",
              "        9.5833331e-01,  7.4509805e-01,  3.0392158e-01,  1.6421568e-01,\n",
              "        2.0588236e-01,  1.6421568e-01,  1.0294118e-01,  9.5588237e-02,\n",
              "        9.0686277e-02,  1.0049020e-01,  9.5588237e-02,  9.8039217e-02,\n",
              "        9.3137257e-02,  9.8039217e-02,  9.5588237e-02,  1.1274510e-01,\n",
              "       -1.0000000e+03, -1.0000000e+03, -1.0000000e+03, -1.0000000e+03,\n",
              "       -1.0000000e+03, -1.0000000e+03, -1.0000000e+03, -1.0000000e+03,\n",
              "       -1.0000000e+03, -1.0000000e+03, -1.0000000e+03, -1.0000000e+03,\n",
              "       -1.0000000e+03, -1.0000000e+03, -1.0000000e+03, -1.0000000e+03,\n",
              "       -1.0000000e+03, -1.0000000e+03, -1.0000000e+03, -1.0000000e+03,\n",
              "       -1.0000000e+03, -1.0000000e+03, -1.0000000e+03, -1.0000000e+03,\n",
              "       -1.0000000e+03, -1.0000000e+03, -1.0000000e+03, -1.0000000e+03,\n",
              "       -1.0000000e+03, -1.0000000e+03, -1.0000000e+03, -1.0000000e+03,\n",
              "       -1.0000000e+03, -1.0000000e+03, -1.0000000e+03, -1.0000000e+03,\n",
              "       -1.0000000e+03, -1.0000000e+03, -1.0000000e+03, -1.0000000e+03,\n",
              "       -1.0000000e+03, -1.0000000e+03, -1.0000000e+03, -1.0000000e+03,\n",
              "       -1.0000000e+03, -1.0000000e+03, -1.0000000e+03, -1.0000000e+03,\n",
              "       -1.0000000e+03, -1.0000000e+03, -1.0000000e+03, -1.0000000e+03,\n",
              "       -1.0000000e+03, -1.0000000e+03, -1.0000000e+03, -1.0000000e+03,\n",
              "       -1.0000000e+03, -1.0000000e+03, -1.0000000e+03, -1.0000000e+03,\n",
              "       -1.0000000e+03, -1.0000000e+03, -1.0000000e+03, -1.0000000e+03,\n",
              "       -1.0000000e+03, -1.0000000e+03, -1.0000000e+03, -1.0000000e+03,\n",
              "       -1.0000000e+03, -1.0000000e+03, -1.0000000e+03, -1.0000000e+03,\n",
              "       -1.0000000e+03, -1.0000000e+03, -1.0000000e+03, -1.0000000e+03,\n",
              "       -1.0000000e+03, -1.0000000e+03, -1.0000000e+03, -1.0000000e+03,\n",
              "       -1.0000000e+03, -1.0000000e+03, -1.0000000e+03, -1.0000000e+03,\n",
              "       -1.0000000e+03, -1.0000000e+03, -1.0000000e+03], dtype=float32)"
            ]
          },
          "metadata": {},
          "execution_count": 8
        }
      ],
      "source": [
        "# YOUR CODE HERE\n",
        "\n",
        "from tensorflow.keras.preprocessing.sequence import pad_sequences\n",
        "\n",
        "X_pad = pad_sequences(X, dtype='float32', padding='post', value=-1000)\n",
        "X_pad[0]"
      ]
    },
    {
      "cell_type": "markdown",
      "metadata": {
        "id": "LQnIE7Zn7tRx"
      },
      "source": [
        "❓ **Question** ❓ You probably see that the returned sequence is composed only of 0's. The reason is because, by default, `pad_sequences` returns integers. If a float is between 0.0 and 0.99999, it is converted to 0. To change this default behavior, turn the `dtype` argument of `pad_sequences` to `float32`. Pad once again the sequences, store the new result in `X_pad` and print the first sequence."
      ]
    },
    {
      "cell_type": "code",
      "execution_count": null,
      "metadata": {
        "id": "T_Ci8inM7tRz"
      },
      "outputs": [],
      "source": [
        "# YOUR CODE HERE"
      ]
    },
    {
      "cell_type": "markdown",
      "metadata": {
        "id": "IpMOnjnz7tR1"
      },
      "source": [
        "The neural network, thanks to a `Masking` layer, will remove the 0 that you padded for computational reasons. \n",
        "\n",
        "**However**, if you look closely at the padded version of the first sequence, you have the padded zeros at the beginning of the sequence. But, also, there is a 0 value **_IN_** the heart-beat values. \n",
        "How could the neural network know which one to keep and which one to remove?\n",
        "\n",
        "❓ **Question** ❓ Add the `value` keyword in the `pad_sequences` function to pad with values that **ARE NOT** in the initial dataset. Negative values for instance. Store it in `X_pad` and print the first sequence.\n",
        "\n",
        "❗ **Remark** ❗ This is a good habit to pad the values **at the end** of the sequence (instead of the beginning as it is done by default). You can do that thanks to the `padding` keyword set to `post` (instead of `pre` by default).\n",
        "\n",
        "[See full documentation here](https://www.tensorflow.org/api_docs/python/tf/keras/preprocessing/sequence/pad_sequences)"
      ]
    },
    {
      "cell_type": "code",
      "execution_count": null,
      "metadata": {
        "id": "Uer0qQxT7tR1"
      },
      "outputs": [],
      "source": [
        "# YOUR CODE HERE"
      ]
    },
    {
      "cell_type": "markdown",
      "metadata": {
        "id": "o9t6BQ7U7tR2"
      },
      "source": [
        "### 1.3 Reshaping"
      ]
    },
    {
      "cell_type": "code",
      "execution_count": null,
      "metadata": {
        "colab": {
          "base_uri": "https://localhost:8080/"
        },
        "id": "rgC9DIFgJIeT",
        "outputId": "ba695c2f-b33b-4e77-90ee-757ad71aa03b"
      },
      "outputs": [
        {
          "output_type": "execute_result",
          "data": {
            "text/plain": [
              "numpy.ndarray"
            ]
          },
          "metadata": {},
          "execution_count": 11
        }
      ],
      "source": [
        "type(X_pad)"
      ]
    },
    {
      "cell_type": "code",
      "execution_count": null,
      "metadata": {
        "colab": {
          "base_uri": "https://localhost:8080/"
        },
        "id": "NU4OU4q67tR2",
        "outputId": "df6c3405-afaf-48fc-84d9-d94b5faa3a0e"
      },
      "outputs": [
        {
          "output_type": "execute_result",
          "data": {
            "text/plain": [
              "True"
            ]
          },
          "metadata": {},
          "execution_count": 12
        }
      ],
      "source": [
        "X_pad.shape == (87554, 187)"
      ]
    },
    {
      "cell_type": "markdown",
      "metadata": {
        "id": "HH1L338E7tR3"
      },
      "source": [
        "☝️ We are missing one dimension, the last one (corresponding to the number of features per observations)\n",
        "\n",
        "❓ **Question** ❓ To remedy this issue, expand the last dimension thanks to the `np.expand_dims` function. "
      ]
    },
    {
      "cell_type": "code",
      "execution_count": null,
      "metadata": {
        "id": "z1oH4HQA7tR3"
      },
      "outputs": [],
      "source": [
        "# YOUR CODE HERE\n",
        "\n",
        "X_pad = np.expand_dims(X_pad, axis = 2)"
      ]
    },
    {
      "cell_type": "code",
      "execution_count": null,
      "metadata": {
        "colab": {
          "base_uri": "https://localhost:8080/"
        },
        "id": "e7QxWKR97tR3",
        "outputId": "e9b1d04a-4ed2-4be6-f55f-b57099ecf643"
      },
      "outputs": [
        {
          "output_type": "execute_result",
          "data": {
            "text/plain": [
              "True"
            ]
          },
          "metadata": {},
          "execution_count": 14
        }
      ],
      "source": [
        "X_pad.shape == (87554, 187, 1)"
      ]
    },
    {
      "cell_type": "markdown",
      "metadata": {
        "id": "7ZLZv70k7tR4"
      },
      "source": [
        "❓ **Question** ❓ The labels `y` have to be one-hot encoded categories. For that reason, transform them to categories thanks to the appropriate Keras function and store the result in `y_cat`"
      ]
    },
    {
      "cell_type": "code",
      "execution_count": null,
      "metadata": {
        "id": "CfS2_G-57tR5"
      },
      "outputs": [],
      "source": [
        "# YOUR CODE HERE\n",
        "\n",
        "from tensorflow.keras.utils import to_categorical\n",
        "\n",
        "y = np.array(y)"
      ]
    },
    {
      "cell_type": "code",
      "execution_count": null,
      "metadata": {
        "id": "sSJEV-K9KQG9"
      },
      "outputs": [],
      "source": [
        "y_cat = to_categorical(y)"
      ]
    },
    {
      "cell_type": "code",
      "execution_count": null,
      "metadata": {
        "colab": {
          "base_uri": "https://localhost:8080/"
        },
        "id": "bbl0vPsVKVRr",
        "outputId": "7bc8f6de-f179-40a1-ae66-c8ed73559f64"
      },
      "outputs": [
        {
          "output_type": "execute_result",
          "data": {
            "text/plain": [
              "(87554, 5)"
            ]
          },
          "metadata": {},
          "execution_count": 17
        }
      ],
      "source": [
        "y_cat.shape"
      ]
    },
    {
      "cell_type": "markdown",
      "metadata": {
        "id": "jLFlX_sX7tR5"
      },
      "source": [
        "❓ **Question** ❓ Split your data between a train and test set (80/20 ratio)."
      ]
    },
    {
      "cell_type": "code",
      "execution_count": null,
      "metadata": {
        "id": "LCk-K7p67tR6"
      },
      "outputs": [],
      "source": [
        "# YOUR CODE HERE\n",
        "\n",
        "train_size = 0.8\n",
        "index = round(train_size * X_pad.shape[0])\n",
        "X_train = X_pad[:index]\n",
        "X_test = X_pad[index:]\n",
        "y_train = y_cat[:index]\n",
        "y_test = y_cat[index:]"
      ]
    },
    {
      "cell_type": "markdown",
      "metadata": {
        "id": "ItexYiyg7tR6"
      },
      "source": [
        "# 2. Model\n",
        "\n",
        "Compared with previous challenge, each sequences comprises of lots of observations (187 units of time), and your intuition should tell you that ALL of them matters to diagnosis diseases (not just the \"recent\" ones). \n",
        "\n",
        "The LSTM or GRU model, with their ability to avoid vanishing gradient, should be preferred over RNN.\n",
        "\n",
        "❓ **Question** ❓ Write model that has the following layers:\n",
        "- a Masking layer whose `mask_value` corresponds to the value you decided to pad your data with (it is probably a negative value as suggested) - this layer will simply tell the network not to take into account the computation artifact\n",
        "- Two stacked `GRU` layers with 20 units each, and the `tanh` as the activation function\n",
        "- a dense layer with 50 units\n",
        "- a dropout layer with 20% drop\n",
        "- a last layer\n",
        "\n",
        "and print model `summary()`"
      ]
    },
    {
      "cell_type": "code",
      "execution_count": null,
      "metadata": {
        "id": "g9bqlUjk7tR7"
      },
      "outputs": [],
      "source": [
        "# YOUR CODE HERE\n",
        "\n",
        "from keras import models, layers\n",
        "from keras.models import Sequential\n",
        "from keras.layers import Dense, GRU, Flatten\n",
        "from tensorflow.keras.layers import Masking, Dropout\n",
        "\n",
        "model = Sequential()\n",
        "model.add(layers.Masking(mask_value = -1000, input_shape = (187, 1)))\n",
        "model.add(GRU(units = 20, return_sequences = True, activation = 'tanh'))\n",
        "model.add(GRU(units = 20, activation = 'tanh'))\n",
        "model.add(layers.Dense(50, activation = 'relu'))\n",
        "model.add(Dropout(0.2))\n",
        "model.add(layers.Dense(5, activation = 'softmax'))"
      ]
    },
    {
      "cell_type": "markdown",
      "metadata": {
        "id": "-05Q35ej7tR7"
      },
      "source": [
        "❓ **Question** ❓ Compile and train your model. \n",
        "\n",
        "You will notice that it can take a very long time per epoch, even with GPUs. RNNs are, by nature, harder to distribute than CNNs. Indeed, GPUs work best when `trainable_params` is large (which is not the case here), or when `batch_size` is large \n",
        "\n",
        "- To reduce the duration of each epoch, use a larger batch size (e.g 128)\n",
        "\n",
        "- Use also very small patience equal to 1 should be sufficient. This is because you have a lot of sequences and thus, many optimizations per epochs, even with relatively large batch_size\n",
        "\n",
        "\n"
      ]
    },
    {
      "cell_type": "code",
      "execution_count": null,
      "metadata": {
        "id": "1V0IidUG7tR8"
      },
      "outputs": [],
      "source": [
        "# YOUR CODE HERE\n",
        "\n",
        "model.compile(loss='categorical_crossentropy', optimizer='adam', metrics='accuracy')"
      ]
    },
    {
      "cell_type": "code",
      "execution_count": null,
      "metadata": {
        "colab": {
          "base_uri": "https://localhost:8080/"
        },
        "id": "aq_MtHyyOldS",
        "outputId": "c8927aff-dc60-4f83-e2ca-2c8300b556a4"
      },
      "outputs": [
        {
          "output_type": "stream",
          "name": "stdout",
          "text": [
            "Epoch 1/100\n",
            "438/438 [==============================] - 20s 28ms/step - loss: 0.7207 - accuracy: 0.8260 - val_loss: 0.6458 - val_accuracy: 0.8323\n",
            "Epoch 2/100\n",
            "438/438 [==============================] - 10s 23ms/step - loss: 0.6699 - accuracy: 0.8271 - val_loss: 0.6457 - val_accuracy: 0.8323\n",
            "Epoch 3/100\n",
            "438/438 [==============================] - 10s 23ms/step - loss: 0.6679 - accuracy: 0.8271 - val_loss: 0.6462 - val_accuracy: 0.8323\n",
            "Epoch 4/100\n",
            "438/438 [==============================] - 10s 23ms/step - loss: 0.6678 - accuracy: 0.8271 - val_loss: 0.6487 - val_accuracy: 0.8323\n"
          ]
        },
        {
          "output_type": "execute_result",
          "data": {
            "text/plain": [
              "<keras.callbacks.History at 0x7f3a086da950>"
            ]
          },
          "metadata": {},
          "execution_count": 21
        }
      ],
      "source": [
        "from tensorflow.keras import callbacks\n",
        "\n",
        "es = callbacks.EarlyStopping(patience=2, restore_best_weights=True)\n",
        "\n",
        "model.fit(X_train, y_train,\n",
        "          batch_size=128,\n",
        "          epochs=100,\n",
        "          validation_split=0.2,\n",
        "          callbacks=[es],\n",
        "          verbose=1)"
      ]
    },
    {
      "cell_type": "markdown",
      "metadata": {
        "id": "HXHVyuHa7tR8"
      },
      "source": [
        "❓ **Question** ❓ Evaluate your model on the test data."
      ]
    },
    {
      "cell_type": "code",
      "execution_count": null,
      "metadata": {
        "colab": {
          "base_uri": "https://localhost:8080/"
        },
        "id": "crHY9Xwi7tR8",
        "outputId": "8c8e3710-8413-4290-d01e-5cb52adc4078"
      },
      "outputs": [
        {
          "output_type": "stream",
          "name": "stdout",
          "text": [
            "548/548 [==============================] - 4s 8ms/step - loss: 0.6615 - accuracy: 0.8262\n"
          ]
        },
        {
          "output_type": "execute_result",
          "data": {
            "text/plain": [
              "[0.661469578742981, 0.8262234926223755]"
            ]
          },
          "metadata": {},
          "execution_count": 22
        }
      ],
      "source": [
        "# YOUR CODE HERE\n",
        "\n",
        "model.evaluate(X_test, y_test)"
      ]
    },
    {
      "cell_type": "markdown",
      "metadata": {
        "id": "8F1N6zCq7tR8"
      },
      "source": [
        "❓ **Question** ❓ What is the accuracy of a baseline model which would predict, for `y_test`, the most probable category in y_train."
      ]
    },
    {
      "cell_type": "code",
      "execution_count": null,
      "metadata": {
        "id": "vztcrI_w7tR9",
        "colab": {
          "base_uri": "https://localhost:8080/"
        },
        "outputId": "14bcc576-26d8-4131-a2eb-498c2836302a"
      },
      "outputs": [
        {
          "output_type": "execute_result",
          "data": {
            "text/plain": [
              "0    72471\n",
              "4     6431\n",
              "2     5788\n",
              "1     2223\n",
              "3      641\n",
              "dtype: int64"
            ]
          },
          "metadata": {},
          "execution_count": 23
        }
      ],
      "source": [
        "# YOUR CODE HERE\n",
        "import pandas as pd\n",
        "\n",
        "pd.Series(y).value_counts()"
      ]
    },
    {
      "cell_type": "code",
      "source": [
        "baseline = len(y_test[y_test[:, 0] == 1]) / len(y_test[:, 0])\n",
        "baseline"
      ],
      "metadata": {
        "colab": {
          "base_uri": "https://localhost:8080/"
        },
        "id": "L8igljxARNca",
        "outputId": "f7a110df-196e-481b-b3ba-aa45fffccd2c"
      },
      "execution_count": null,
      "outputs": [
        {
          "output_type": "execute_result",
          "data": {
            "text/plain": [
              "0.8262235166466793"
            ]
          },
          "metadata": {},
          "execution_count": 33
        }
      ]
    },
    {
      "cell_type": "markdown",
      "metadata": {
        "id": "5JuApema7tR9"
      },
      "source": [
        "Basically, your RNNs are as good (bad?) as a model that predicts the most present category. The reason is probably because the RNNs really return only the most present category.\n",
        "\n",
        "❓ **Question** ❓ Use the `predict` function to see what are the different categories the model is predicting. Compare the 5 predict probas of each sequence with the distribution of each 5 classes"
      ]
    },
    {
      "cell_type": "code",
      "execution_count": null,
      "metadata": {
        "id": "85eFFAlJ7tR9"
      },
      "outputs": [],
      "source": [
        "# YOUR CODE HERE\n",
        "\n",
        "predictions = model.predict(X_test)"
      ]
    },
    {
      "cell_type": "code",
      "source": [
        "for n in range(5):\n",
        "  y_pred = round(predictions[:, n].mean(), 3)\n",
        "  y_baseline = round(len(y_test[y_test[:, n] == 1]) / len(y_test[:, n]), 3)\n",
        "  print(f'Category {n + 1}')\n",
        "  print('Prediction:', y_pred)\n",
        "  print('Baseline:', y_baseline)\n",
        "  print('')"
      ],
      "metadata": {
        "colab": {
          "base_uri": "https://localhost:8080/"
        },
        "id": "1xOZpRN8Upjg",
        "outputId": "290cabf9-52af-445f-c12a-d7d1997b8b84"
      },
      "execution_count": null,
      "outputs": [
        {
          "output_type": "stream",
          "name": "stdout",
          "text": [
            "Category 1\n",
            "Prediction: 0.835\n",
            "Baseline: 0.826\n",
            "\n",
            "Category 2\n",
            "Prediction: 0.023\n",
            "Baseline: 0.025\n",
            "\n",
            "Category 3\n",
            "Prediction: 0.06\n",
            "Baseline: 0.067\n",
            "\n",
            "Category 4\n",
            "Prediction: 0.007\n",
            "Baseline: 0.008\n",
            "\n",
            "Category 5\n",
            "Prediction: 0.076\n",
            "Baseline: 0.074\n",
            "\n"
          ]
        }
      ]
    },
    {
      "cell_type": "markdown",
      "metadata": {
        "id": "qzrO8jHO7tR-"
      },
      "source": [
        "😱 Your model is returning exactly the frequence of each labels in your training set!\n",
        "\n",
        "👉 A possibility here is to either subsample the data to have balanced classes in the training set. Another possibility is to do some data augmentation on temporal data. However, none of these methods would work right away. In fact, predicting the category of ECG data is not an easy task - also, you have only **one** heart-beat per patient, no repetitions of them! \n",
        "\n",
        "Classifying ECG is actually quite a complex task! Don't try to improve results, you won't be able to do so from this too small a dataset.\n",
        "\n",
        "**The lesson here is not to be satisfied with results until you have compare them to a baseline method.**"
      ]
    },
    {
      "cell_type": "markdown",
      "metadata": {
        "id": "2ch426987tR-"
      },
      "source": [
        "🏁 Congratulation!"
      ]
    },
    {
      "cell_type": "code",
      "execution_count": null,
      "metadata": {
        "id": "n-yEvwni7tR-"
      },
      "outputs": [],
      "source": [
        ""
      ]
    }
  ],
  "metadata": {
    "accelerator": "GPU",
    "colab": {
      "name": "Cópia de classify_electrocardiograms.ipynb",
      "provenance": [],
      "include_colab_link": true
    },
    "kernelspec": {
      "display_name": "Python 3",
      "language": "python",
      "name": "python3"
    }
  },
  "nbformat": 4,
  "nbformat_minor": 0
}